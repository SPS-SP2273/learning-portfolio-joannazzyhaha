{
 "cells": [
  {
   "attachments": {},
   "cell_type": "markdown",
   "id": "123456",
   "metadata": {},
   "source": [
    "<div style=\"text-align:left;font-size:2em\"><span style=\"font-weight:bolder;font-size:1.25em\">SP2273 | Learning Portfolio</span><br><br><span style=\"font-weight:bold;color:darkred\">Using Jupyter (Need)</span></div>"
   ]
  },
  {
   "attachments": {},
   "cell_type": "markdown",
   "id": "590124d0",
   "metadata": {},
   "source": [
    "# 1 What to expect in this chapter"
   ]
  },
  {
   "attachments": {},
   "cell_type": "markdown",
   "id": "4b6f778f",
   "metadata": {},
   "source": [
    "# 2 Getting ready"
   ]
  },
  {
   "attachments": {},
   "cell_type": "markdown",
   "id": "982f648f",
   "metadata": {},
   "source": [
    "# 3 Getting started with Jupyter"
   ]
  },
  {
   "attachments": {},
   "cell_type": "markdown",
   "id": "d6371246",
   "metadata": {},
   "source": [
    "## 3.1 It is all about running cells"
   ]
  },
  {
   "attachments": {},
   "cell_type": "markdown",
   "id": "c3533cfc",
   "metadata": {},
   "source": [
    "## 3.2 A traditional start"
   ]
  },
  {
   "cell_type": "code",
   "execution_count": 1,
   "id": "4772b62f-9f5d-418e-ab96-f99253b51bcb",
   "metadata": {},
   "outputs": [
    {
     "name": "stdout",
     "output_type": "stream",
     "text": [
      "Hello Wolrd\n"
     ]
    }
   ],
   "source": [
    "print('Hello Wolrd')"
   ]
  },
  {
   "attachments": {},
   "cell_type": "markdown",
   "id": "889d862d",
   "metadata": {},
   "source": [
    "# 4 All about Markdown"
   ]
  },
  {
   "attachments": {},
   "cell_type": "markdown",
   "id": "7fac3576",
   "metadata": {},
   "source": [
    "## 4.1 Rendering Markdown cells"
   ]
  },
  {
   "cell_type": "markdown",
   "id": "0a73bceb-41a6-4a5f-b19c-50ec15fd0ba4",
   "metadata": {},
   "source": [
    "The ships hung in the sky in much the same way that bricks don’t."
   ]
  },
  {
   "attachments": {},
   "cell_type": "markdown",
   "id": "f21a3ef9",
   "metadata": {},
   "source": [
    "## 4.2 Some basic syntax"
   ]
  },
  {
   "cell_type": "markdown",
   "id": "aaaac9c5-fb98-4300-bd5a-f07763c1fed0",
   "metadata": {},
   "source": [
    "The **ships** ***hung in the sky*** in much the *same* way that bricks **don't**. <sup>1</sup><sub>QUOTE</sub>"
   ]
  },
  {
   "attachments": {},
   "cell_type": "markdown",
   "id": "9d755deb",
   "metadata": {},
   "source": [
    "## 4.3 Headings"
   ]
  },
  {
   "cell_type": "markdown",
   "id": "4635ab13-f582-4b27-aa43-1cd86062b58b",
   "metadata": {},
   "source": [
    "# HARRY POTTER IS DEAD!\n",
    "## Voldermot: AHAHAHAHHAHAHHAHHAHAHA\n",
    "### Narcissa: 'poke,poke'\n",
    "#### Or is he..."
   ]
  },
  {
   "attachments": {},
   "cell_type": "markdown",
   "id": "136e6bc7",
   "metadata": {},
   "source": [
    "## 4.4 Displaying Code"
   ]
  },
  {
   "cell_type": "markdown",
   "id": "83488a8f-e0b4-407a-86a1-97cac23b6558",
   "metadata": {},
   "source": [
    "`print('Hello World')`"
   ]
  },
  {
   "attachments": {},
   "cell_type": "markdown",
   "id": "05159a09",
   "metadata": {},
   "source": [
    "## 4.5 Links"
   ]
  },
  {
   "cell_type": "markdown",
   "id": "e43dab8e-3848-4302-b81c-b3394df909f2",
   "metadata": {},
   "source": [
    "[Dualism](https://en.wikipedia.org/wiki/Mind%E2%80%93body_dualism#:~:text=Substance%20dualism%2C%20or%20Cartesian%20dualism,and%20the%20body%20cannot%20think.)"
   ]
  },
  {
   "attachments": {},
   "cell_type": "markdown",
   "id": "588d08df",
   "metadata": {},
   "source": [
    "## 4.6 Images"
   ]
  },
  {
   "cell_type": "markdown",
   "id": "c05ef4b2-ddf0-4088-9a5b-d980c07ce9af",
   "metadata": {},
   "source": [
    "![The Old Guitarist](http://localhost:8888/files/using%20jupyter/Old_guitarist_chicago.jpg?_xsrf=2%7C59ecb182%7C592a7864d550be2f381a8c41dd6de1f8%7C1705652797)"
   ]
  },
  {
   "attachments": {},
   "cell_type": "markdown",
   "id": "76fb96d2",
   "metadata": {},
   "source": [
    "## 4.7 Tables"
   ]
  },
  {
   "cell_type": "markdown",
   "id": "7357dd3c-fb97-432e-8f63-ec7242fa9969",
   "metadata": {},
   "source": [
    "| Concentration of poison/% | Time taken for insect to die/s |   |   |   |\n",
    "|---------------------------|--------------------------------|---|---|---|\n",
    "| 0.1                       | 200                            |   |   |   |\n",
    "| 0.2                       | 151                            |   |   |   |\n",
    "| 0.3                       | 80                             |   |   |   |"
   ]
  },
  {
   "attachments": {},
   "cell_type": "markdown",
   "id": "9dfb7a92",
   "metadata": {},
   "source": [
    "## 4.8 Lists"
   ]
  },
  {
   "cell_type": "markdown",
   "id": "7329d4f3-5de5-48c0-b797-f4c34a7d1787",
   "metadata": {},
   "source": [
    "1. HAHAHHAHAHA\n",
    "2. HAHHAHAHA\n",
    "3. HAHAHAH\n",
    "   - HAHAH\n",
    "   - HAHA\n",
    "   - HA\n",
    "     1. H\n",
    "     2. |"
   ]
  },
  {
   "attachments": {},
   "cell_type": "markdown",
   "id": "bdc7639f",
   "metadata": {},
   "source": [
    "## 4.9 Equations"
   ]
  },
  {
   "cell_type": "markdown",
   "id": "b194a07e-84ae-4ab5-86dc-14e7e4ac96e0",
   "metadata": {},
   "source": [
    "$$\n",
    "\\dfrac{2}{3}x^{2}+\\sqrt{56}y-2z \\leq 42\n",
    "$$"
   ]
  },
  {
   "attachments": {},
   "cell_type": "markdown",
   "id": "ff4e3269",
   "metadata": {},
   "source": [
    "## Footnotes"
   ]
  },
  {
   "cell_type": "code",
   "execution_count": null,
   "id": "9f9c1d0a-2419-45e4-ae56-f8f3e5d8a01c",
   "metadata": {},
   "outputs": [],
   "source": []
  }
 ],
 "metadata": {
  "kernelspec": {
   "display_name": "Python 3 (ipykernel)",
   "language": "python",
   "name": "python3"
  },
  "language_info": {
   "codemirror_mode": {
    "name": "ipython",
    "version": 3
   },
   "file_extension": ".py",
   "mimetype": "text/x-python",
   "name": "python",
   "nbconvert_exporter": "python",
   "pygments_lexer": "ipython3",
   "version": "3.11.5"
  },
  "toc": {
   "base_numbering": 1,
   "nav_menu": {},
   "number_sections": true,
   "sideBar": true,
   "skip_h1_title": false,
   "title_cell": "Table of Contents",
   "title_sidebar": "Contents",
   "toc_cell": false,
   "toc_position": {},
   "toc_section_display": true,
   "toc_window_display": false
  },
  "vscode": {
   "interpreter": {
    "hash": "31f2aee4e71d21fbe5cf8b01ff0e069b9275f58929596ceb00d14d90e3e16cd6"
   }
  }
 },
 "nbformat": 4,
 "nbformat_minor": 5
}
