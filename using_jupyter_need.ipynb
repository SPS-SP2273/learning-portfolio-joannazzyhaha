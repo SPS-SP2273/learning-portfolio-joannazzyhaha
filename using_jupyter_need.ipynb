{
 "cells": [
  {
   "cell_type": "markdown",
   "id": "68c5d4ef-1f87-44d4-8b8d-e6e228ad57ae",
   "metadata": {},
   "source": [
    "# Quadratic Equations"
   ]
  },
  {
   "cell_type": "markdown",
   "id": "96a6dc93-ee98-49fe-aa13-422bea7c825f",
   "metadata": {},
   "source": [
    "## Introduction"
   ]
  },
  {
   "cell_type": "markdown",
   "id": "938c7d6d-455e-4cba-a0b6-91128a79a7eb",
   "metadata": {},
   "source": [
    "![](https://en.wikipedia.org/wiki/Quadratic_equation#/media/File:Polynomialdeg2.svg)"
   ]
  },
  {
   "cell_type": "markdown",
   "id": "914eb9f7-cfb6-443b-9696-2fa677005466",
   "metadata": {},
   "source": [
    "*(Image from the [Wikipedia page on Quadratic equations)](https://en.wikipedia.org/wiki/Quadratic_equation)*"
   ]
  },
  {
   "cell_type": "markdown",
   "id": "b6f3bfef-98a3-4127-8f03-3df4c885c423",
   "metadata": {},
   "source": [
    "The general form of a quadratic equation is:"
   ]
  },
  {
   "cell_type": "markdown",
   "id": "7c09dccc-ea88-42a2-9b18-986067321316",
   "metadata": {},
   "source": [
    "$$\n",
    "ax^{2}+bx+c=0\n",
    "$$"
   ]
  },
  {
   "cell_type": "markdown",
   "id": "7cdc35bf-7e8c-426a-91d8-25984d46cac6",
   "metadata": {},
   "source": [
    "## Solutions"
   ]
  },
  {
   "cell_type": "markdown",
   "id": "707ad256-92ce-4453-bd65-d154fc13593a",
   "metadata": {},
   "source": [
    "Provided $a\\ne b$, we can use an elementary algebraic method called [completing the square](https://en.wikipedia.org/wiki/Completing_the_square) to show that a quadratic equation has the following solution:\n",
    "$$\n",
    "x=\\dfrac{-b±\\sqrt{b^{2}-4ac}}{2a}\n",
    "$$"
   ]
  },
  {
   "cell_type": "markdown",
   "id": "8ecf0668-a984-4f33-ba96-8400b36cff78",
   "metadata": {},
   "source": [
    "## Discriminant"
   ]
  },
  {
   "cell_type": "markdown",
   "id": "d33bb14b-983c-4333-a2fb-b80eb740e9bf",
   "metadata": {},
   "source": [
    "The quantity $Δ=b^{2}-4ac$ is called the **discriminant** of the equation and decides the nature of its solutions. The table below shows the various possibilities. "
   ]
  },
  {
   "cell_type": "markdown",
   "id": "62e3df3e-433e-48eb-a4cb-687d9d7dcfb0",
   "metadata": {},
   "source": [
    "| Discriminant        | Roots                              |   |   |   |\r\n",
    "|---------------------|------------------------------------|---|---|---|\r\n",
    "| $Δ=b^{2}-4ac=0$     | A single solution of -b/(2a)       |   |   |   |\r\n",
    "| $Δ=b^{2}-4ac \\gt 0$ | Two distinct solutions             |   |   |   |\r\n",
    "| $Δ=b^{2}-4ac \\lt 0$ | No real solutions; both are comlex |   |   |   |"
   ]
  },
  {
   "cell_type": "code",
   "execution_count": null,
   "id": "1575b923-641e-4b3d-8da2-090c3ab249a6",
   "metadata": {},
   "outputs": [],
   "source": []
  }
 ],
 "metadata": {
  "kernelspec": {
   "display_name": "Python 3 (ipykernel)",
   "language": "python",
   "name": "python3"
  },
  "language_info": {
   "codemirror_mode": {
    "name": "ipython",
    "version": 3
   },
   "file_extension": ".py",
   "mimetype": "text/x-python",
   "name": "python",
   "nbconvert_exporter": "python",
   "pygments_lexer": "ipython3",
   "version": "3.11.5"
  }
 },
 "nbformat": 4,
 "nbformat_minor": 5
}
