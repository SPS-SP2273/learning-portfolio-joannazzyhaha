{
 "cells": [
  {
   "attachments": {},
   "cell_type": "markdown",
   "id": "123456",
   "metadata": {},
   "source": [
    "<div style=\"text-align:left;font-size:2em\"><span style=\"font-weight:bolder;font-size:1.25em\">SP2273 | Learning Portfolio</span><br><br><span style=\"font-weight:bold;color:darkred\">Files, Folders & OS (Need)</span></div>"
   ]
  },
  {
   "attachments": {},
   "cell_type": "markdown",
   "id": "a3fb917e",
   "metadata": {},
   "source": [
    "# What to expect in this chapter"
   ]
  },
  {
   "attachments": {},
   "cell_type": "markdown",
   "id": "f4b99724",
   "metadata": {},
   "source": [
    "# 1 Important concepts"
   ]
  },
  {
   "attachments": {},
   "cell_type": "markdown",
   "id": "83f5caee",
   "metadata": {},
   "source": [
    "## 1.1 Path"
   ]
  },
  {
   "attachments": {},
   "cell_type": "markdown",
   "id": "6bd731c2",
   "metadata": {},
   "source": [
    "## 1.2 More about relative paths"
   ]
  },
  {
   "attachments": {},
   "cell_type": "markdown",
   "id": "50c1f72d",
   "metadata": {},
   "source": [
    "### macOS or Linux"
   ]
  },
  {
   "cell_type": "code",
   "execution_count": null,
   "id": "83c275d9",
   "metadata": {},
   "outputs": [],
   "source": [
    "\n",
    "# Your code here\n"
   ]
  },
  {
   "attachments": {},
   "cell_type": "markdown",
   "id": "69d6e1a5",
   "metadata": {},
   "source": [
    "## 1.3 Path separator"
   ]
  },
  {
   "attachments": {},
   "cell_type": "markdown",
   "id": "1e5b2407",
   "metadata": {},
   "source": [
    "## 1.4 Text files vs. Binary files"
   ]
  },
  {
   "attachments": {},
   "cell_type": "markdown",
   "id": "aba65bb4",
   "metadata": {},
   "source": [
    "## 1.5 Extensions"
   ]
  },
  {
   "attachments": {},
   "cell_type": "markdown",
   "id": "36cc370d",
   "metadata": {},
   "source": [
    "# 2 Opening and closing files"
   ]
  },
  {
   "attachments": {},
   "cell_type": "markdown",
   "id": "69e171dc",
   "metadata": {},
   "source": [
    "## 2.1 Reading data"
   ]
  },
  {
   "attachments": {},
   "cell_type": "markdown",
   "id": "0ac3cbb9",
   "metadata": {},
   "source": [
    "## 2.2 Writing data"
   ]
  },
  {
   "attachments": {},
   "cell_type": "markdown",
   "id": "d00ef5d5",
   "metadata": {},
   "source": [
    "### Writing to a file in one go"
   ]
  },
  {
   "cell_type": "code",
   "execution_count": null,
   "id": "2447e361",
   "metadata": {},
   "outputs": [],
   "source": [
    "\n",
    "# Your code here\n"
   ]
  },
  {
   "attachments": {},
   "cell_type": "markdown",
   "id": "2549fcdb",
   "metadata": {},
   "source": [
    "### Writing to a file, line by line"
   ]
  },
  {
   "cell_type": "code",
   "execution_count": null,
   "id": "ef34d99f",
   "metadata": {},
   "outputs": [],
   "source": [
    "\n",
    "# Your code here\n"
   ]
  },
  {
   "attachments": {},
   "cell_type": "markdown",
   "id": "708eeab1",
   "metadata": {},
   "source": [
    "# 3 Some useful packages"
   ]
  },
  {
   "attachments": {},
   "cell_type": "markdown",
   "id": "0dd7a72a",
   "metadata": {},
   "source": [
    "# 4 OS safe paths"
   ]
  },
  {
   "attachments": {},
   "cell_type": "markdown",
   "id": "0e1d90f7",
   "metadata": {},
   "source": [
    "# 5 Folders"
   ]
  },
  {
   "attachments": {},
   "cell_type": "markdown",
   "id": "552518ce",
   "metadata": {},
   "source": [
    "## 5.1 Creating folders"
   ]
  },
  {
   "attachments": {},
   "cell_type": "markdown",
   "id": "84fb5b99",
   "metadata": {},
   "source": [
    "## 5.2 Checking for existence"
   ]
  },
  {
   "attachments": {},
   "cell_type": "markdown",
   "id": "32c70040",
   "metadata": {},
   "source": [
    "### Using try-except"
   ]
  },
  {
   "cell_type": "code",
   "execution_count": null,
   "id": "9f31e708",
   "metadata": {},
   "outputs": [],
   "source": [
    "\n",
    "# Your code here\n"
   ]
  },
  {
   "attachments": {},
   "cell_type": "markdown",
   "id": "c82b62ca",
   "metadata": {},
   "source": [
    "### Using os.path.exists()"
   ]
  },
  {
   "cell_type": "code",
   "execution_count": null,
   "id": "dd15670c",
   "metadata": {},
   "outputs": [],
   "source": [
    "\n",
    "# Your code here\n"
   ]
  },
  {
   "attachments": {},
   "cell_type": "markdown",
   "id": "2ff06579",
   "metadata": {},
   "source": [
    "## 5.3 Copying files"
   ]
  },
  {
   "attachments": {},
   "cell_type": "markdown",
   "id": "82e5dbf2",
   "metadata": {},
   "source": [
    "# 6 Listing and looking for files"
   ]
  },
  {
   "attachments": {},
   "cell_type": "markdown",
   "id": "154c2871",
   "metadata": {},
   "source": [
    "# 7 Extracting file info"
   ]
  },
  {
   "attachments": {},
   "cell_type": "markdown",
   "id": "f76a96c5",
   "metadata": {},
   "source": [
    "# 8 Deleting stuff"
   ]
  }
 ],
 "metadata": {
  "kernelspec": {
   "display_name": "Python 3 (ipykernel)",
   "language": "python",
   "name": "python3"
  },
  "language_info": {
   "codemirror_mode": {
    "name": "ipython",
    "version": 3
   },
   "file_extension": ".py",
   "mimetype": "text/x-python",
   "name": "python",
   "nbconvert_exporter": "python",
   "pygments_lexer": "ipython3",
   "version": "3.11.5"
  },
  "toc": {
   "base_numbering": 1,
   "nav_menu": {},
   "number_sections": true,
   "sideBar": true,
   "skip_h1_title": false,
   "title_cell": "Table of Contents",
   "title_sidebar": "Contents",
   "toc_cell": false,
   "toc_position": {},
   "toc_section_display": true,
   "toc_window_display": false
  },
  "vscode": {
   "interpreter": {
    "hash": "31f2aee4e71d21fbe5cf8b01ff0e069b9275f58929596ceb00d14d90e3e16cd6"
   }
  }
 },
 "nbformat": 4,
 "nbformat_minor": 5
}
