{
 "cells": [
  {
   "attachments": {},
   "cell_type": "markdown",
   "id": "123456",
   "metadata": {},
   "source": [
    "<div style=\"text-align:left;font-size:2em\"><span style=\"font-weight:bolder;font-size:1.25em\">SP2273 | Learning Portfolio</span><br><br><span style=\"font-weight:bold;color:darkred\">Functions (Good)</span></div>"
   ]
  },
  {
   "attachments": {},
   "cell_type": "markdown",
   "id": "7d0f58a1",
   "metadata": {},
   "source": [
    "# What to expect in this chapter"
   ]
  },
  {
   "attachments": {},
   "cell_type": "markdown",
   "id": "73b28617",
   "metadata": {},
   "source": [
    "# 1 Checks, balances, and contingencies"
   ]
  },
  {
   "attachments": {},
   "cell_type": "markdown",
   "id": "b5f887f2",
   "metadata": {},
   "source": [
    "## 1.1 assert"
   ]
  },
  {
   "cell_type": "code",
   "execution_count": 3,
   "id": "66b698f9-6e44-4f19-bcfb-4ed32cd67c30",
   "metadata": {},
   "outputs": [
    {
     "ename": "AssertionError",
     "evalue": "x is becoming negative!",
     "output_type": "error",
     "traceback": [
      "\u001b[1;31m---------------------------------------------------------------------------\u001b[0m",
      "\u001b[1;31mAssertionError\u001b[0m                            Traceback (most recent call last)",
      "Cell \u001b[1;32mIn[3], line 2\u001b[0m\n\u001b[0;32m      1\u001b[0m x \u001b[38;5;241m=\u001b[39m \u001b[38;5;241m-\u001b[39m\u001b[38;5;241m9\u001b[39m\n\u001b[1;32m----> 2\u001b[0m \u001b[38;5;28;01massert\u001b[39;00m x \u001b[38;5;241m>\u001b[39m\u001b[38;5;241m=\u001b[39m \u001b[38;5;241m0\u001b[39m, \u001b[38;5;124m\"\u001b[39m\u001b[38;5;124mx is becoming negative!\u001b[39m\u001b[38;5;124m\"\u001b[39m\n",
      "\u001b[1;31mAssertionError\u001b[0m: x is becoming negative!"
     ]
    }
   ],
   "source": [
    "x = -9\n",
    "assert x >= 0, \"x is becoming negative!\""
   ]
  },
  {
   "attachments": {},
   "cell_type": "markdown",
   "id": "6a28ce48",
   "metadata": {},
   "source": [
    "## 1.2 try-except"
   ]
  },
  {
   "cell_type": "code",
   "execution_count": 4,
   "id": "4e7e0fb9-aeac-45cc-98a1-5ecd687446d6",
   "metadata": {},
   "outputs": [
    {
     "ename": "ZeroDivisionError",
     "evalue": "division by zero",
     "output_type": "error",
     "traceback": [
      "\u001b[1;31m---------------------------------------------------------------------------\u001b[0m",
      "\u001b[1;31mZeroDivisionError\u001b[0m                         Traceback (most recent call last)",
      "Cell \u001b[1;32mIn[4], line 1\u001b[0m\n\u001b[1;32m----> 1\u001b[0m \u001b[38;5;241;43m9\u001b[39;49m\u001b[38;5;241;43m/\u001b[39;49m\u001b[38;5;241;43m0\u001b[39;49m\n",
      "\u001b[1;31mZeroDivisionError\u001b[0m: division by zero"
     ]
    }
   ],
   "source": [
    "9/0"
   ]
  },
  {
   "cell_type": "code",
   "execution_count": 6,
   "id": "375d24b7-40a8-4c5a-b700-ffa052484d1b",
   "metadata": {},
   "outputs": [
    {
     "name": "stdin",
     "output_type": "stream",
     "text": [
      "Give me a number and I will calculate its square. eh\n"
     ]
    },
    {
     "ename": "ValueError",
     "evalue": "invalid literal for int() with base 10: 'eh'",
     "output_type": "error",
     "traceback": [
      "\u001b[1;31m---------------------------------------------------------------------------\u001b[0m",
      "\u001b[1;31mValueError\u001b[0m                                Traceback (most recent call last)",
      "Cell \u001b[1;32mIn[6], line 2\u001b[0m\n\u001b[0;32m      1\u001b[0m number\u001b[38;5;241m=\u001b[39m\u001b[38;5;28minput\u001b[39m(\u001b[38;5;124m\"\u001b[39m\u001b[38;5;124mGive me a number and I will calculate its square.\u001b[39m\u001b[38;5;124m\"\u001b[39m)\n\u001b[1;32m----> 2\u001b[0m square\u001b[38;5;241m=\u001b[39m\u001b[38;5;28;43mint\u001b[39;49m\u001b[43m(\u001b[49m\u001b[43mnumber\u001b[49m\u001b[43m)\u001b[49m\u001b[38;5;241m*\u001b[39m\u001b[38;5;241m*\u001b[39m\u001b[38;5;241m2\u001b[39m              \u001b[38;5;66;03m# Convert English to number\u001b[39;00m\n\u001b[0;32m      3\u001b[0m \u001b[38;5;28mprint\u001b[39m(\u001b[38;5;124mf\u001b[39m\u001b[38;5;124m'\u001b[39m\u001b[38;5;124mThe square of \u001b[39m\u001b[38;5;132;01m{\u001b[39;00mnumber\u001b[38;5;132;01m}\u001b[39;00m\u001b[38;5;124m is \u001b[39m\u001b[38;5;132;01m{\u001b[39;00msquare\u001b[38;5;132;01m}\u001b[39;00m\u001b[38;5;124m!\u001b[39m\u001b[38;5;124m'\u001b[39m)\n",
      "\u001b[1;31mValueError\u001b[0m: invalid literal for int() with base 10: 'eh'"
     ]
    }
   ],
   "source": [
    "number=input(\"Give me a number and I will calculate its square.\")\n",
    "square=int(number)**2              # Convert English to number\n",
    "print(f'The square of {number} is {square}!')"
   ]
  },
  {
   "cell_type": "code",
   "execution_count": 11,
   "id": "2f4d0c34-ce9d-4303-83d0-feda92c2a6e1",
   "metadata": {},
   "outputs": [
    {
     "name": "stdin",
     "output_type": "stream",
     "text": [
      "Give me a number and I will calculate its square. j\n"
     ]
    },
    {
     "name": "stdout",
     "output_type": "stream",
     "text": [
      "Oh oh! I cannot square j!\n"
     ]
    }
   ],
   "source": [
    "try:\n",
    "    number=input(\"Give me a number and I will calculate its square.\")\n",
    "    square=int(number)**2\n",
    "    print(f'The square of {number} is {square}!')\n",
    "except:\n",
    "    print(f\"Oh oh! I cannot square {number}!\")"
   ]
  },
  {
   "attachments": {},
   "cell_type": "markdown",
   "id": "16b47764",
   "metadata": {},
   "source": [
    "## 1.3 A simple suggestion"
   ]
  },
  {
   "attachments": {},
   "cell_type": "markdown",
   "id": "e566cc0c",
   "metadata": {},
   "source": [
    "# 2 Some loose ends"
   ]
  },
  {
   "attachments": {},
   "cell_type": "markdown",
   "id": "2a439ed3",
   "metadata": {},
   "source": [
    "## 2.1 Positional, keyword and default arguments"
   ]
  },
  {
   "cell_type": "code",
   "execution_count": 12,
   "id": "bf8f1791-8f9d-43a9-b3cd-359b661d293e",
   "metadata": {},
   "outputs": [],
   "source": [
    "def side_by_side(a, b, c=42):\n",
    "    return f'{a: 2d}|{b: 2d}|{c: 2d}'"
   ]
  },
  {
   "cell_type": "code",
   "execution_count": 17,
   "id": "75549dd3-4a29-4045-b605-40513cafa23c",
   "metadata": {},
   "outputs": [
    {
     "data": {
      "text/plain": [
       "' 1| 1| 42'"
      ]
     },
     "execution_count": 17,
     "metadata": {},
     "output_type": "execute_result"
    }
   ],
   "source": [
    "side_by_side(1,1)"
   ]
  },
  {
   "attachments": {},
   "cell_type": "markdown",
   "id": "9634cb9b",
   "metadata": {},
   "source": [
    "## 2.2 Docstrings"
   ]
  },
  {
   "cell_type": "code",
   "execution_count": 19,
   "id": "f0699027-b338-4e6e-b54b-2042c57fac6b",
   "metadata": {},
   "outputs": [],
   "source": [
    "def side_by_side(a, b, c=42):\n",
    "    '''\n",
    "    A test function to demonstrate how \n",
    "    positional, keyword and default arguments \n",
    "    work.\n",
    "    '''\n",
    "    return f'{a: 2d}|{b: 2d}|{c: 2d}'\n",
    "    "
   ]
  },
  {
   "cell_type": "code",
   "execution_count": 20,
   "id": "66c55e70-1216-460f-bde3-fdc766d833b2",
   "metadata": {},
   "outputs": [
    {
     "name": "stdout",
     "output_type": "stream",
     "text": [
      "Help on function side_by_side in module __main__:\n",
      "\n",
      "side_by_side(a, b, c=42)\n",
      "    A test function to demonstrate how \n",
      "    positional, keyword and default arguments \n",
      "    work.\n",
      "\n"
     ]
    }
   ],
   "source": [
    "help(side_by_side)"
   ]
  },
  {
   "attachments": {},
   "cell_type": "markdown",
   "id": "dc357cf7",
   "metadata": {},
   "source": [
    "## 2.3 Function are first-class citizens"
   ]
  },
  {
   "cell_type": "code",
   "execution_count": 23,
   "id": "ef1195a7-78a2-4cac-b880-4272d62c61cc",
   "metadata": {},
   "outputs": [],
   "source": [
    "import numpy as np"
   ]
  },
  {
   "cell_type": "code",
   "execution_count": 21,
   "id": "3153dbc3-11fe-47fe-97a1-761562671c64",
   "metadata": {},
   "outputs": [],
   "source": [
    "def my_function(angle, trig_function):\n",
    "        return trig_function(angle)"
   ]
  },
  {
   "cell_type": "code",
   "execution_count": 24,
   "id": "c0096346-3294-4cba-a8af-7047f1bc141e",
   "metadata": {},
   "outputs": [
    {
     "data": {
      "text/plain": [
       "1.0"
      ]
     },
     "execution_count": 24,
     "metadata": {},
     "output_type": "execute_result"
    }
   ],
   "source": [
    "my_function(np.pi/2, np.sin)        "
   ]
  },
  {
   "cell_type": "code",
   "execution_count": 25,
   "id": "aa6ac6b4-cab7-4a0a-84c6-afe4cab0d0cc",
   "metadata": {},
   "outputs": [
    {
     "data": {
      "text/plain": [
       "1.633123935319537e+16"
      ]
     },
     "execution_count": 25,
     "metadata": {},
     "output_type": "execute_result"
    }
   ],
   "source": [
    "my_function(np.pi/2, np.tan) "
   ]
  },
  {
   "cell_type": "code",
   "execution_count": 26,
   "id": "f541336a-841a-4423-a893-6ddf0f05f09b",
   "metadata": {},
   "outputs": [
    {
     "data": {
      "text/plain": [
       "-1.0"
      ]
     },
     "execution_count": 26,
     "metadata": {},
     "output_type": "execute_result"
    }
   ],
   "source": [
    "my_function(np.pi/2, lambda x: np.cos(2*x))  "
   ]
  },
  {
   "attachments": {},
   "cell_type": "markdown",
   "id": "ac758c64",
   "metadata": {},
   "source": [
    "## 2.4 More about unpacking"
   ]
  },
  {
   "cell_type": "code",
   "execution_count": 27,
   "id": "c5b78859-48ce-4fa5-a3df-e106cf912cb7",
   "metadata": {},
   "outputs": [
    {
     "data": {
      "text/plain": [
       "(1, 2, 3)"
      ]
     },
     "execution_count": 27,
     "metadata": {},
     "output_type": "execute_result"
    }
   ],
   "source": [
    "x, y, z = [1, 2, 3]\n",
    "x, y, z"
   ]
  },
  {
   "cell_type": "code",
   "execution_count": 28,
   "id": "52d248f1-ca51-41a8-a25d-9588e7233fc3",
   "metadata": {},
   "outputs": [
    {
     "data": {
      "text/plain": [
       "(1, 2, 3)"
      ]
     },
     "execution_count": 28,
     "metadata": {},
     "output_type": "execute_result"
    }
   ],
   "source": [
    "x, y, z = np.array([1, 2, 3])\n",
    "x, y, z"
   ]
  },
  {
   "cell_type": "code",
   "execution_count": 29,
   "id": "7a3e1b18-3538-494f-a521-5e83788a8ecb",
   "metadata": {},
   "outputs": [
    {
     "data": {
      "text/plain": [
       "(1, [2, 3, 4], 5)"
      ]
     },
     "execution_count": 29,
     "metadata": {},
     "output_type": "execute_result"
    }
   ],
   "source": [
    "x, *y, z = np.array([1, 2, 3, 4, 5])\n",
    "x, y, z"
   ]
  },
  {
   "cell_type": "code",
   "execution_count": 35,
   "id": "616a2cef-5eb5-4568-a225-d486dcf8eeec",
   "metadata": {},
   "outputs": [
    {
     "data": {
      "text/plain": [
       "(1, 5)"
      ]
     },
     "execution_count": 35,
     "metadata": {},
     "output_type": "execute_result"
    }
   ],
   "source": [
    "x, *_, y = [1, 2, 3, 4, 5]\n",
    "x, y"
   ]
  }
 ],
 "metadata": {
  "kernelspec": {
   "display_name": "Python 3 (ipykernel)",
   "language": "python",
   "name": "python3"
  },
  "language_info": {
   "codemirror_mode": {
    "name": "ipython",
    "version": 3
   },
   "file_extension": ".py",
   "mimetype": "text/x-python",
   "name": "python",
   "nbconvert_exporter": "python",
   "pygments_lexer": "ipython3",
   "version": "3.11.5"
  },
  "toc": {
   "base_numbering": 1,
   "nav_menu": {},
   "number_sections": true,
   "sideBar": true,
   "skip_h1_title": false,
   "title_cell": "Table of Contents",
   "title_sidebar": "Contents",
   "toc_cell": false,
   "toc_position": {},
   "toc_section_display": true,
   "toc_window_display": false
  },
  "vscode": {
   "interpreter": {
    "hash": "31f2aee4e71d21fbe5cf8b01ff0e069b9275f58929596ceb00d14d90e3e16cd6"
   }
  }
 },
 "nbformat": 4,
 "nbformat_minor": 5
}
