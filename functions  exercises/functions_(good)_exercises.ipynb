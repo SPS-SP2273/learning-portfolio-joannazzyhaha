{
 "cells": [
  {
   "attachments": {},
   "cell_type": "markdown",
   "id": "123456",
   "metadata": {},
   "source": [
    "<div style=\"text-align:left;font-size:2em\"><span style=\"font-weight:bolder;font-size:1.25em\">SP2273 | Learning Portfolio</span><br><br><span style=\"font-weight:bold;color:darkred\">Functions (Good) Exercises</span></div>"
   ]
  },
  {
   "cell_type": "code",
   "execution_count": 12,
   "id": "c1df0d9f-d93f-4c86-9b47-fd3e62fd6c1a",
   "metadata": {},
   "outputs": [],
   "source": [
    "# Exercise 1\n",
    "\n",
    "def convert_celsius(temperature_celsius, target_scale):\n",
    "    temperature_fahrenheit = temperature_celsius*1.8 + 32\n",
    "    temperature_kelvin = temperature_celsius + 273.15\n",
    "    if target_scale == 'kelvin':\n",
    "        return f'{temperature_celsius}is equal to {temperature_kelvin}'\n",
    "\n",
    "    else:\n",
    "        return f'{temperature_celsius} is equal to {temperature_fahrenheit}'"
   ]
  },
  {
   "cell_type": "code",
   "execution_count": 13,
   "id": "d53d82bf-3033-4c18-a8a1-418afc82dfd6",
   "metadata": {},
   "outputs": [
    {
     "data": {
      "text/plain": [
       "'20is equal to 293.15'"
      ]
     },
     "execution_count": 13,
     "metadata": {},
     "output_type": "execute_result"
    }
   ],
   "source": [
    "convert_celsius (20, 'kelvin')"
   ]
  },
  {
   "cell_type": "code",
   "execution_count": 17,
   "id": "8d698526-bcaf-4226-ac0f-3112ca80ca9f",
   "metadata": {},
   "outputs": [],
   "source": [
    "# Exercise 2\n",
    "\n",
    "def convert_fahrenheit(temperature_fahrenheit, target_scale):\n",
    "    temperature_celsius = (temperature_fahrenheit - 32)*5/9\n",
    "    temperature_kelvin = (temperature_fahrenheit -32)/1.8 + 273.15\n",
    "    if target_scale == 'celsius':\n",
    "        return f'{temperature_fahrenheit}is equal to {temperature_celsius}'\n",
    "    if target_scale == 'kelvin':\n",
    "         return f'{temperature_fahrenheit}is equal to {temperature_kelvin}'"
   ]
  },
  {
   "cell_type": "code",
   "execution_count": 20,
   "id": "0a44fde2-47b9-47c0-bf53-df56955d5e39",
   "metadata": {},
   "outputs": [
    {
     "ename": "SyntaxError",
     "evalue": "invalid syntax (1713928668.py, line 2)",
     "output_type": "error",
     "traceback": [
      "\u001b[1;36m  Cell \u001b[1;32mIn[20], line 2\u001b[1;36m\u001b[0m\n\u001b[1;33m    if source_scale == 'celsius', target_scale == 'fahrenheit':\u001b[0m\n\u001b[1;37m                                ^\u001b[0m\n\u001b[1;31mSyntaxError\u001b[0m\u001b[1;31m:\u001b[0m invalid syntax\n"
     ]
    }
   ],
   "source": [
    "def convert_temperature(temperature, source_scale, target_scale):\n",
    "    if source_scale == 'celsius', target_scale == 'fahrenheit':\n",
    "        return f'{temperature_celsius} is equal to {temperature_fahrenheit}'\n",
    "    if source_scale == 'fahrenheit', target_scale == 'celsius':\n",
    "        return f'{temperature_fahrenheit}is equal to {temperature_celsius}'\n",
    "    if source_scale == 'celsius', target_scale == 'kelvin':\n",
    "        return f'{temperature_celsius}is equal to {temperature_kelvin}'\n",
    "    if source_scale == 'kelvin', target_scale == 'celsius':\n",
    "        return f'{temperature_kelvin}is equal to {temperature_celsius}'\n",
    "    if source_scale == 'fahrenheit', target_scale == 'kelvin'\n",
    "         return f'{temperature_fahrenheit}is equal to {temperature_kelvin}'\n",
    "    if source_scale == 'fahrenheit', target_scale == 'kelvin'"
   ]
  }
 ],
 "metadata": {
  "kernelspec": {
   "display_name": "Python 3 (ipykernel)",
   "language": "python",
   "name": "python3"
  },
  "language_info": {
   "codemirror_mode": {
    "name": "ipython",
    "version": 3
   },
   "file_extension": ".py",
   "mimetype": "text/x-python",
   "name": "python",
   "nbconvert_exporter": "python",
   "pygments_lexer": "ipython3",
   "version": "3.11.5"
  },
  "toc": {
   "base_numbering": 1,
   "nav_menu": {},
   "number_sections": true,
   "sideBar": true,
   "skip_h1_title": false,
   "title_cell": "Table of Contents",
   "title_sidebar": "Contents",
   "toc_cell": false,
   "toc_position": {},
   "toc_section_display": true,
   "toc_window_display": false
  },
  "vscode": {
   "interpreter": {
    "hash": "31f2aee4e71d21fbe5cf8b01ff0e069b9275f58929596ceb00d14d90e3e16cd6"
   }
  }
 },
 "nbformat": 4,
 "nbformat_minor": 5
}
