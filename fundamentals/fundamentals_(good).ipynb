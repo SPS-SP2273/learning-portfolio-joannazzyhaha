{
 "cells": [
  {
   "attachments": {},
   "cell_type": "markdown",
   "id": "123456",
   "metadata": {},
   "source": [
    "<div style=\"text-align:left;font-size:2em\"><span style=\"font-weight:bolder;font-size:1.25em\">SP2273 | Learning Portfolio</span><br><br><span style=\"font-weight:bold;color:darkred\">Fundamentals (Good)</span></div>"
   ]
  },
  {
   "attachments": {},
   "cell_type": "markdown",
   "id": "9868f693",
   "metadata": {},
   "source": [
    "# What to expect in this chapter"
   ]
  },
  {
   "attachments": {},
   "cell_type": "markdown",
   "id": "9c6cf87a",
   "metadata": {},
   "source": [
    "# 1 There is more to if"
   ]
  },
  {
   "cell_type": "code",
   "execution_count": 2,
   "id": "8508ebd1-50bd-4c3c-a8ab-46f79c00e612",
   "metadata": {},
   "outputs": [
    {
     "name": "stdout",
     "output_type": "stream",
     "text": [
      "?\n"
     ]
    }
   ],
   "source": [
    "name = 'oiuinjkhjk'\n",
    "if name == 'Yuan Zhe':\n",
    "    print('Hello Yuan Zhe!')\n",
    "\n",
    "elif name == 'oiuinjkhjk':\n",
    "    print('?')\n",
    "else:\n",
    "    print('wow')"
   ]
  },
  {
   "attachments": {},
   "cell_type": "markdown",
   "id": "5719aa46",
   "metadata": {},
   "source": [
    "# 2 Asking questions"
   ]
  },
  {
   "cell_type": "code",
   "execution_count": null,
   "id": "90e3e506-a3d7-4069-88d2-530f2fc7d7dd",
   "metadata": {},
   "outputs": [],
   "source": []
  },
  {
   "cell_type": "code",
   "execution_count": null,
   "id": "1d8fbe13-b550-44a2-a4b4-f146d60266f3",
   "metadata": {},
   "outputs": [],
   "source": []
  },
  {
   "attachments": {},
   "cell_type": "markdown",
   "id": "1ee24f6d",
   "metadata": {},
   "source": [
    "# 3 Remember"
   ]
  },
  {
   "attachments": {},
   "cell_type": "markdown",
   "id": "c00ddb96",
   "metadata": {},
   "source": [
    "## 3.1 Asking Math questions"
   ]
  },
  {
   "attachments": {},
   "cell_type": "markdown",
   "id": "459a05c6",
   "metadata": {},
   "source": [
    "# 4 Python stores information in different formats or types"
   ]
  },
  {
   "cell_type": "code",
   "execution_count": 3,
   "id": "ce97d993-c317-42be-a678-7e7c724ca534",
   "metadata": {},
   "outputs": [],
   "source": [
    "a=0.1"
   ]
  },
  {
   "cell_type": "code",
   "execution_count": 4,
   "id": "a1aa6054-750d-414a-8aac-2b96fdec71a2",
   "metadata": {},
   "outputs": [],
   "source": [
    "a3=0.3"
   ]
  },
  {
   "cell_type": "code",
   "execution_count": 5,
   "id": "8d1a55c7-ac6f-4fd1-9404-535a5c906f73",
   "metadata": {},
   "outputs": [
    {
     "data": {
      "text/plain": [
       "False"
      ]
     },
     "execution_count": 5,
     "metadata": {},
     "output_type": "execute_result"
    }
   ],
   "source": [
    "a*3 == a3"
   ]
  },
  {
   "cell_type": "code",
   "execution_count": 7,
   "id": "9ab19793-5adb-4b83-a60b-5dea1860bd4a",
   "metadata": {},
   "outputs": [
    {
     "data": {
      "text/plain": [
       "5.551115123125783e-17"
      ]
     },
     "execution_count": 7,
     "metadata": {},
     "output_type": "execute_result"
    }
   ],
   "source": [
    "a*3 -a3"
   ]
  },
  {
   "cell_type": "code",
   "execution_count": 8,
   "id": "6b322550-ac09-40d9-93cc-fd3f98ff7592",
   "metadata": {},
   "outputs": [],
   "source": [
    "a=0.2"
   ]
  },
  {
   "cell_type": "code",
   "execution_count": 10,
   "id": "11988eb1-c1ae-4f30-8010-983e21745a98",
   "metadata": {},
   "outputs": [],
   "source": [
    "a3=0.6"
   ]
  },
  {
   "cell_type": "code",
   "execution_count": 12,
   "id": "b95edc91-3a0c-4a75-b8a2-0eaa5356472c",
   "metadata": {},
   "outputs": [
    {
     "data": {
      "text/plain": [
       "1.1102230246251565e-16"
      ]
     },
     "execution_count": 12,
     "metadata": {},
     "output_type": "execute_result"
    }
   ],
   "source": [
    "a*3 -a3"
   ]
  },
  {
   "cell_type": "code",
   "execution_count": 13,
   "id": "0c61ca17-8687-4fd8-8770-b4e0150367d5",
   "metadata": {},
   "outputs": [],
   "source": [
    "a=100"
   ]
  },
  {
   "cell_type": "code",
   "execution_count": 14,
   "id": "f303c1e1-6d45-45c4-a95a-6b510f27ff2e",
   "metadata": {},
   "outputs": [],
   "source": [
    "a2=200"
   ]
  },
  {
   "cell_type": "code",
   "execution_count": 15,
   "id": "153f98d2-775e-4590-b272-dd1e8653d503",
   "metadata": {},
   "outputs": [
    {
     "data": {
      "text/plain": [
       "0"
      ]
     },
     "execution_count": 15,
     "metadata": {},
     "output_type": "execute_result"
    }
   ],
   "source": [
    "a2 -a*2"
   ]
  },
  {
   "attachments": {},
   "cell_type": "markdown",
   "id": "d94c2602",
   "metadata": {},
   "source": [
    "# 5 Never compare floats directly"
   ]
  },
  {
   "attachments": {},
   "cell_type": "markdown",
   "id": "2fa06eac",
   "metadata": {},
   "source": [
    "## 5.1 The Problem"
   ]
  },
  {
   "attachments": {},
   "cell_type": "markdown",
   "id": "90c5e67c",
   "metadata": {},
   "source": [
    "## 5.2 A solution"
   ]
  },
  {
   "attachments": {},
   "cell_type": "markdown",
   "id": "d1f5e7f3",
   "metadata": {},
   "source": [
    "# 6 Combining English and variables"
   ]
  },
  {
   "attachments": {},
   "cell_type": "markdown",
   "id": "c54722b4",
   "metadata": {},
   "source": [
    "## 6.1 Structure of f-strings"
   ]
  },
  {
   "attachments": {},
   "cell_type": "markdown",
   "id": "1dd9d9df",
   "metadata": {},
   "source": [
    "# 7 Escape sequences"
   ]
  },
  {
   "attachments": {},
   "cell_type": "markdown",
   "id": "35571924",
   "metadata": {},
   "source": [
    "# 8 Computers read = from Right to Left!"
   ]
  },
  {
   "attachments": {},
   "cell_type": "markdown",
   "id": "fce5e7da",
   "metadata": {},
   "source": [
    "# 9 Shorter and Cleaner Code"
   ]
  },
  {
   "attachments": {},
   "cell_type": "markdown",
   "id": "f195dcd0",
   "metadata": {},
   "source": [
    "# 10 Python can be a prima-donna."
   ]
  },
  {
   "attachments": {},
   "cell_type": "markdown",
   "id": "3ff3529c",
   "metadata": {},
   "source": [
    "# 11 Best Practices for Scientific Computing"
   ]
  },
  {
   "attachments": {},
   "cell_type": "markdown",
   "id": "08d6f154",
   "metadata": {},
   "source": [
    "# 12 Looking for help"
   ]
  },
  {
   "attachments": {},
   "cell_type": "markdown",
   "id": "5348516e",
   "metadata": {},
   "source": [
    "## References"
   ]
  },
  {
   "attachments": {},
   "cell_type": "markdown",
   "id": "c0b1077e",
   "metadata": {},
   "source": [
    "## Footnotes"
   ]
  }
 ],
 "metadata": {
  "kernelspec": {
   "display_name": "Python 3 (ipykernel)",
   "language": "python",
   "name": "python3"
  },
  "language_info": {
   "codemirror_mode": {
    "name": "ipython",
    "version": 3
   },
   "file_extension": ".py",
   "mimetype": "text/x-python",
   "name": "python",
   "nbconvert_exporter": "python",
   "pygments_lexer": "ipython3",
   "version": "3.11.5"
  },
  "toc": {
   "base_numbering": 1,
   "nav_menu": {},
   "number_sections": true,
   "sideBar": true,
   "skip_h1_title": false,
   "title_cell": "Table of Contents",
   "title_sidebar": "Contents",
   "toc_cell": false,
   "toc_position": {},
   "toc_section_display": true,
   "toc_window_display": false
  },
  "vscode": {
   "interpreter": {
    "hash": "31f2aee4e71d21fbe5cf8b01ff0e069b9275f58929596ceb00d14d90e3e16cd6"
   }
  }
 },
 "nbformat": 4,
 "nbformat_minor": 5
}
