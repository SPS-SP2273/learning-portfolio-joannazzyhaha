{
 "cells": [
  {
   "attachments": {},
   "cell_type": "markdown",
   "id": "123456",
   "metadata": {},
   "source": [
    "<div style=\"text-align:left;font-size:2em\"><span style=\"font-weight:bolder;font-size:1.25em\">SP2273 | Learning Portfolio</span><br><br><span style=\"font-weight:bold;color:darkred\">Fundamentals (Good)</span></div>"
   ]
  },
  {
   "attachments": {},
   "cell_type": "markdown",
   "id": "9868f693",
   "metadata": {},
   "source": [
    "# What to expect in this chapter"
   ]
  },
  {
   "attachments": {},
   "cell_type": "markdown",
   "id": "9c6cf87a",
   "metadata": {},
   "source": [
    "# 1 There is more to if"
   ]
  },
  {
   "cell_type": "code",
   "execution_count": 2,
   "id": "8508ebd1-50bd-4c3c-a8ab-46f79c00e612",
   "metadata": {},
   "outputs": [
    {
     "name": "stdout",
     "output_type": "stream",
     "text": [
      "?\n"
     ]
    }
   ],
   "source": [
    "name = 'oiuinjkhjk'\n",
    "if name == 'Yuan Zhe':\n",
    "    print('Hello Yuan Zhe!')\n",
    "\n",
    "elif name == 'oiuinjkhjk':\n",
    "    print('?')\n",
    "else:\n",
    "    print('wow')"
   ]
  },
  {
   "attachments": {},
   "cell_type": "markdown",
   "id": "5719aa46",
   "metadata": {},
   "source": [
    "# 2 Asking questions"
   ]
  },
  {
   "cell_type": "code",
   "execution_count": 2,
   "id": "90e3e506-a3d7-4069-88d2-530f2fc7d7dd",
   "metadata": {},
   "outputs": [],
   "source": [
    "fruits = ['apple', 'banana', 'pineapple', 'jackfruit']\n",
    "vegetables = ['celery', 'potato', 'broccoli', 'kale']"
   ]
  },
  {
   "cell_type": "code",
   "execution_count": 6,
   "id": "1d8fbe13-b550-44a2-a4b4-f146d60266f3",
   "metadata": {},
   "outputs": [
    {
     "data": {
      "text/plain": [
       "False"
      ]
     },
     "execution_count": 6,
     "metadata": {},
     "output_type": "execute_result"
    }
   ],
   "source": [
    "('celery' in fruits) and ('banana' in fruits)"
   ]
  },
  {
   "cell_type": "code",
   "execution_count": 9,
   "id": "6800be42-4b85-4810-8fa9-7fead5a05a35",
   "metadata": {},
   "outputs": [
    {
     "data": {
      "text/plain": [
       "True"
      ]
     },
     "execution_count": 9,
     "metadata": {},
     "output_type": "execute_result"
    }
   ],
   "source": [
    "'pin' in 'pinterest' "
   ]
  },
  {
   "cell_type": "code",
   "execution_count": 11,
   "id": "96804f93-e830-4630-874a-0752343a281a",
   "metadata": {},
   "outputs": [
    {
     "data": {
      "text/plain": [
       "True"
      ]
     },
     "execution_count": 11,
     "metadata": {},
     "output_type": "execute_result"
    }
   ],
   "source": [
    "'apples' < 'oranges' #come back to chekck again"
   ]
  },
  {
   "attachments": {},
   "cell_type": "markdown",
   "id": "1ee24f6d",
   "metadata": {},
   "source": [
    "# 3 Remember"
   ]
  },
  {
   "attachments": {},
   "cell_type": "markdown",
   "id": "c00ddb96",
   "metadata": {},
   "source": [
    "## 3.1 Asking Math questions"
   ]
  },
  {
   "attachments": {},
   "cell_type": "markdown",
   "id": "459a05c6",
   "metadata": {},
   "source": [
    "# 4 Python stores information in different formats or types"
   ]
  },
  {
   "cell_type": "code",
   "execution_count": 15,
   "id": "6583df28-f321-4d46-961b-bb9de30f2160",
   "metadata": {},
   "outputs": [
    {
     "name": "stdout",
     "output_type": "stream",
     "text": [
      "3 <class 'int'>\n"
     ]
    }
   ],
   "source": [
    "x = int(3.9415) #keeps the integer portion regardless of the decimal?\n",
    "print(x, type(x))"
   ]
  },
  {
   "cell_type": "code",
   "execution_count": 16,
   "id": "006fe1c8-df5a-456d-b300-ff980c81ed57",
   "metadata": {},
   "outputs": [
    {
     "name": "stdout",
     "output_type": "stream",
     "text": [
      "(1.234+0j) <class 'complex'>\n"
     ]
    }
   ],
   "source": [
    "x = complex(1.234)\n",
    "print(x, type(x))"
   ]
  },
  {
   "cell_type": "code",
   "execution_count": 17,
   "id": "00ba75f5-59a8-4617-917a-dcb5c3c93007",
   "metadata": {},
   "outputs": [
    {
     "name": "stdout",
     "output_type": "stream",
     "text": [
      "3.53 <class 'str'>\n"
     ]
    }
   ],
   "source": [
    "x = '3.53'\n",
    "print(x, type(x))"
   ]
  },
  {
   "cell_type": "code",
   "execution_count": 18,
   "id": "90f80a83-2e4d-49f5-885c-bfc501cf5e2b",
   "metadata": {},
   "outputs": [
    {
     "name": "stdout",
     "output_type": "stream",
     "text": [
      "3.53 <class 'float'>\n"
     ]
    }
   ],
   "source": [
    "x = float(x) # float is a number with decimal places, as contrast to integers\n",
    "print (x, type(x))"
   ]
  },
  {
   "attachments": {},
   "cell_type": "markdown",
   "id": "d94c2602",
   "metadata": {},
   "source": [
    "# 5 Never compare floats directly"
   ]
  },
  {
   "attachments": {},
   "cell_type": "markdown",
   "id": "2fa06eac",
   "metadata": {},
   "source": [
    "## 5.1 The Problem"
   ]
  },
  {
   "cell_type": "code",
   "execution_count": 20,
   "id": "ce97d993-c317-42be-a678-7e7c724ca534",
   "metadata": {},
   "outputs": [],
   "source": [
    "a = 0.1"
   ]
  },
  {
   "cell_type": "code",
   "execution_count": 19,
   "id": "a1aa6054-750d-414a-8aac-2b96fdec71a2",
   "metadata": {},
   "outputs": [],
   "source": [
    "a3 = 0.3"
   ]
  },
  {
   "cell_type": "code",
   "execution_count": 5,
   "id": "8d1a55c7-ac6f-4fd1-9404-535a5c906f73",
   "metadata": {},
   "outputs": [
    {
     "data": {
      "text/plain": [
       "False"
      ]
     },
     "execution_count": 5,
     "metadata": {},
     "output_type": "execute_result"
    }
   ],
   "source": [
    "a*3 == a3"
   ]
  },
  {
   "cell_type": "code",
   "execution_count": 31,
   "id": "639e4e60-6a30-497f-81ab-553171e4fb74",
   "metadata": {},
   "outputs": [
    {
     "data": {
      "text/plain": [
       "'0.3300000000000000155431223447521915659308433532714843750000000000000000000000000000000000000000000000'"
      ]
     },
     "execution_count": 31,
     "metadata": {},
     "output_type": "execute_result"
    }
   ],
   "source": [
    "f'{0.33:.100f}'"
   ]
  },
  {
   "cell_type": "code",
   "execution_count": 7,
   "id": "9ab19793-5adb-4b83-a60b-5dea1860bd4a",
   "metadata": {},
   "outputs": [
    {
     "data": {
      "text/plain": [
       "5.551115123125783e-17"
      ]
     },
     "execution_count": 7,
     "metadata": {},
     "output_type": "execute_result"
    }
   ],
   "source": [
    "a*3 -a3"
   ]
  },
  {
   "cell_type": "code",
   "execution_count": 8,
   "id": "6b322550-ac09-40d9-93cc-fd3f98ff7592",
   "metadata": {},
   "outputs": [],
   "source": [
    "a=0.2"
   ]
  },
  {
   "cell_type": "code",
   "execution_count": 10,
   "id": "11988eb1-c1ae-4f30-8010-983e21745a98",
   "metadata": {},
   "outputs": [],
   "source": [
    "a3=0.6"
   ]
  },
  {
   "cell_type": "code",
   "execution_count": 12,
   "id": "b95edc91-3a0c-4a75-b8a2-0eaa5356472c",
   "metadata": {},
   "outputs": [
    {
     "data": {
      "text/plain": [
       "1.1102230246251565e-16"
      ]
     },
     "execution_count": 12,
     "metadata": {},
     "output_type": "execute_result"
    }
   ],
   "source": [
    "a*3 -a3"
   ]
  },
  {
   "cell_type": "code",
   "execution_count": 13,
   "id": "0c61ca17-8687-4fd8-8770-b4e0150367d5",
   "metadata": {},
   "outputs": [],
   "source": [
    "a=100"
   ]
  },
  {
   "cell_type": "code",
   "execution_count": 14,
   "id": "f303c1e1-6d45-45c4-a95a-6b510f27ff2e",
   "metadata": {},
   "outputs": [],
   "source": [
    "a2=200"
   ]
  },
  {
   "cell_type": "code",
   "execution_count": 15,
   "id": "153f98d2-775e-4590-b272-dd1e8653d503",
   "metadata": {},
   "outputs": [
    {
     "data": {
      "text/plain": [
       "0"
      ]
     },
     "execution_count": 15,
     "metadata": {},
     "output_type": "execute_result"
    }
   ],
   "source": [
    "a2 -a*2"
   ]
  },
  {
   "attachments": {},
   "cell_type": "markdown",
   "id": "90c5e67c",
   "metadata": {},
   "source": [
    "## 5.2 A solution"
   ]
  },
  {
   "cell_type": "code",
   "execution_count": 32,
   "id": "1455cfad-1a25-4254-8ac7-7b7005014a69",
   "metadata": {},
   "outputs": [
    {
     "data": {
      "text/plain": [
       "5.551115123125783e-17"
      ]
     },
     "execution_count": 32,
     "metadata": {},
     "output_type": "execute_result"
    }
   ],
   "source": [
    "a = 0.1\n",
    "a3 = 0.3\n",
    "a*3 - a3"
   ]
  },
  {
   "cell_type": "code",
   "execution_count": 33,
   "id": "ba2e3211-6c6a-4a63-bb39-c85ae9d7e9b1",
   "metadata": {},
   "outputs": [
    {
     "data": {
      "text/plain": [
       "True"
      ]
     },
     "execution_count": 33,
     "metadata": {},
     "output_type": "execute_result"
    }
   ],
   "source": [
    "eps = 1E-10 # 1 times 10 to the power of -10\n",
    "abs(a *3 - a3) < eps"
   ]
  },
  {
   "cell_type": "code",
   "execution_count": 36,
   "id": "4e3e9295-67ba-4623-984e-f47bf981eb61",
   "metadata": {},
   "outputs": [],
   "source": [
    "import numpy as np"
   ]
  },
  {
   "cell_type": "code",
   "execution_count": 37,
   "id": "59759ea8-b784-4a92-8777-be5144f2abfe",
   "metadata": {},
   "outputs": [
    {
     "data": {
      "text/plain": [
       "True"
      ]
     },
     "execution_count": 37,
     "metadata": {},
     "output_type": "execute_result"
    }
   ],
   "source": [
    "np.isclose(a*3, a3)"
   ]
  },
  {
   "attachments": {},
   "cell_type": "markdown",
   "id": "d1f5e7f3",
   "metadata": {},
   "source": [
    "# 6 Combining English and variables"
   ]
  },
  {
   "cell_type": "code",
   "execution_count": 38,
   "id": "24e935d8-8527-45b9-8e87-4dea36db86f4",
   "metadata": {},
   "outputs": [
    {
     "name": "stdout",
     "output_type": "stream",
     "text": [
      "Hello rabbit!\n"
     ]
    }
   ],
   "source": [
    "name = 'rabbit'\n",
    "print(f'Hello {name}!')"
   ]
  },
  {
   "cell_type": "code",
   "execution_count": 39,
   "id": "6055a2a0-91b8-45b5-9a7f-2dbd914d3fb0",
   "metadata": {},
   "outputs": [
    {
     "name": "stdout",
     "output_type": "stream",
     "text": [
      "Hello RABBIT!\n"
     ]
    }
   ],
   "source": [
    "name = 'rabbit'\n",
    "print(f'Hello {name.upper()}!')"
   ]
  },
  {
   "cell_type": "code",
   "execution_count": 40,
   "id": "3fd669d4-cf42-481f-b250-d247f05400b6",
   "metadata": {},
   "outputs": [
    {
     "name": "stdout",
     "output_type": "stream",
     "text": [
      "The value of 2 squared is 100!\n"
     ]
    }
   ],
   "source": [
    "x = 2\n",
    "print(f'The value of {x} squared is 100!')"
   ]
  },
  {
   "cell_type": "code",
   "execution_count": 41,
   "id": "cafe2b06-924f-4cd6-b0e3-feefe6903225",
   "metadata": {},
   "outputs": [
    {
     "name": "stdout",
     "output_type": "stream",
     "text": [
      "The value of 2 squared is 4!\n"
     ]
    }
   ],
   "source": [
    "x = 2\n",
    "print(f'The value of {x} squared is {x**2}!')"
   ]
  },
  {
   "cell_type": "code",
   "execution_count": 53,
   "id": "6f6c265d-e5a7-4289-92d6-343f083f72f2",
   "metadata": {},
   "outputs": [
    {
     "name": "stdout",
     "output_type": "stream",
     "text": [
      "      hx       \n"
     ]
    }
   ],
   "source": [
    "text = 'hx'\n",
    "print(f'{text:^15}')"
   ]
  },
  {
   "cell_type": "code",
   "execution_count": 58,
   "id": "412c82f9-fed3-4675-97ab-7478ea92077b",
   "metadata": {},
   "outputs": [
    {
     "name": "stdout",
     "output_type": "stream",
     "text": [
      "The square root of pi to the 10th decimal places is 1.772453851\n"
     ]
    }
   ],
   "source": [
    "print (f'The square root of pi to the 10th decimal places is {np.sqrt(np.pi):.10f}')"
   ]
  },
  {
   "cell_type": "code",
   "execution_count": 61,
   "id": "d86b37d6-4972-4020-99ed-abcc8686a1cc",
   "metadata": {},
   "outputs": [
    {
     "name": "stdout",
     "output_type": "stream",
     "text": [
      "The square root of pi to the 10th decimal places is 1.772453851\n"
     ]
    }
   ],
   "source": [
    "print (f'The square root of pi to the 10th decimal places is {np.sqrt(np.pi):.10}')\n",
    "# why does this (without f ) works, too??"
   ]
  },
  {
   "cell_type": "code",
   "execution_count": 59,
   "id": "66b463a9-6450-4871-b18c-c035ba6d12b5",
   "metadata": {},
   "outputs": [
    {
     "name": "stdout",
     "output_type": "stream",
     "text": [
      "The square root of pi to the 10th decimal places is 1.7724538509e+00\n"
     ]
    }
   ],
   "source": [
    "print (f'The square root of pi to the 10th decimal places is {np.sqrt(np.pi):.10e}')"
   ]
  },
  {
   "attachments": {},
   "cell_type": "markdown",
   "id": "c54722b4",
   "metadata": {},
   "source": [
    "## 6.1 Structure of f-strings"
   ]
  },
  {
   "attachments": {},
   "cell_type": "markdown",
   "id": "1dd9d9df",
   "metadata": {},
   "source": [
    "# 7 Escape sequences"
   ]
  },
  {
   "cell_type": "code",
   "execution_count": 65,
   "id": "41c70609-c087-4c42-9bb4-e7bc5a933888",
   "metadata": {},
   "outputs": [
    {
     "name": "stdout",
     "output_type": "stream",
     "text": [
      "like\n",
      "\ta\n",
      "\t\tstaircase\n"
     ]
    }
   ],
   "source": [
    "print('like\\n\\ta\\n\\t\\tstaircase')"
   ]
  },
  {
   "cell_type": "code",
   "execution_count": 66,
   "id": "5077f5eb-9b25-4fff-8b14-38fe49398024",
   "metadata": {},
   "outputs": [
    {
     "name": "stdout",
     "output_type": "stream",
     "text": [
      "I'm \\nobody.\n"
     ]
    }
   ],
   "source": [
    "print('I\\'m \\\\nobody.')"
   ]
  },
  {
   "attachments": {},
   "cell_type": "markdown",
   "id": "35571924",
   "metadata": {},
   "source": [
    "# 8 Computers read = from Right to Left!"
   ]
  },
  {
   "attachments": {},
   "cell_type": "markdown",
   "id": "fce5e7da",
   "metadata": {},
   "source": [
    "# 9 Shorter and Cleaner Code"
   ]
  },
  {
   "cell_type": "code",
   "execution_count": 70,
   "id": "05725bfc-3816-426a-a436-bce60c3c0013",
   "metadata": {},
   "outputs": [
    {
     "data": {
      "text/plain": [
       "6"
      ]
     },
     "execution_count": 70,
     "metadata": {},
     "output_type": "execute_result"
    }
   ],
   "source": [
    "y = 2\n",
    "y *= 3\n",
    "y"
   ]
  },
  {
   "attachments": {},
   "cell_type": "markdown",
   "id": "f195dcd0",
   "metadata": {},
   "source": [
    "# 10 Python can be a prima-donna."
   ]
  },
  {
   "attachments": {},
   "cell_type": "markdown",
   "id": "3ff3529c",
   "metadata": {},
   "source": [
    "# 11 Best Practices for Scientific Computing"
   ]
  },
  {
   "attachments": {},
   "cell_type": "markdown",
   "id": "08d6f154",
   "metadata": {},
   "source": [
    "# 12 Looking for help"
   ]
  },
  {
   "cell_type": "code",
   "execution_count": 71,
   "id": "79a087e6-b3b5-4ce4-b468-a27e26a99115",
   "metadata": {},
   "outputs": [
    {
     "name": "stdout",
     "output_type": "stream",
     "text": [
      "Help on built-in function print in module builtins:\n",
      "\n",
      "print(*args, sep=' ', end='\\n', file=None, flush=False)\n",
      "    Prints the values to a stream, or to sys.stdout by default.\n",
      "    \n",
      "    sep\n",
      "      string inserted between values, default a space.\n",
      "    end\n",
      "      string appended after the last value, default a newline.\n",
      "    file\n",
      "      a file-like object (stream); defaults to the current sys.stdout.\n",
      "    flush\n",
      "      whether to forcibly flush the stream.\n",
      "\n"
     ]
    }
   ],
   "source": [
    "help(print)"
   ]
  },
  {
   "attachments": {},
   "cell_type": "markdown",
   "id": "5348516e",
   "metadata": {},
   "source": [
    "## References"
   ]
  },
  {
   "attachments": {},
   "cell_type": "markdown",
   "id": "c0b1077e",
   "metadata": {},
   "source": [
    "## Footnotes"
   ]
  }
 ],
 "metadata": {
  "kernelspec": {
   "display_name": "Python 3 (ipykernel)",
   "language": "python",
   "name": "python3"
  },
  "language_info": {
   "codemirror_mode": {
    "name": "ipython",
    "version": 3
   },
   "file_extension": ".py",
   "mimetype": "text/x-python",
   "name": "python",
   "nbconvert_exporter": "python",
   "pygments_lexer": "ipython3",
   "version": "3.11.5"
  },
  "toc": {
   "base_numbering": 1,
   "nav_menu": {},
   "number_sections": true,
   "sideBar": true,
   "skip_h1_title": false,
   "title_cell": "Table of Contents",
   "title_sidebar": "Contents",
   "toc_cell": false,
   "toc_position": {},
   "toc_section_display": true,
   "toc_window_display": false
  },
  "vscode": {
   "interpreter": {
    "hash": "31f2aee4e71d21fbe5cf8b01ff0e069b9275f58929596ceb00d14d90e3e16cd6"
   }
  }
 },
 "nbformat": 4,
 "nbformat_minor": 5
}
