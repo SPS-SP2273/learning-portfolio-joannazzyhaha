{
 "cells": [
  {
   "attachments": {},
   "cell_type": "markdown",
   "id": "123456",
   "metadata": {},
   "source": [
    "<div style=\"text-align:left;font-size:2em\"><span style=\"font-weight:bolder;font-size:1.25em\">SP2273 | Learning Portfolio</span><br><br><span style=\"font-weight:bold;color:darkred\">Functions (Need) Exercises</span></div>"
   ]
  },
  {
   "cell_type": "code",
   "execution_count": 1,
   "id": "7771b103-5c1a-49d6-ae0f-cbdd58a59719",
   "metadata": {},
   "outputs": [],
   "source": [
    "def greeting(name):\n",
    "    if name == 'Batman':\n",
    "        return 'Hello Batman! So, nice to meet you!'\n",
    "    return f'Hello {name}!'"
   ]
  },
  {
   "cell_type": "code",
   "execution_count": 5,
   "id": "85bec78e-3c5f-4eec-8467-62f8e29b8a81",
   "metadata": {},
   "outputs": [
    {
     "data": {
      "text/plain": [
       "'Hello 1!'"
      ]
     },
     "execution_count": 5,
     "metadata": {},
     "output_type": "execute_result"
    }
   ],
   "source": [
    "greeting('1')"
   ]
  },
  {
   "cell_type": "code",
   "execution_count": 6,
   "id": "b79f9037-f2a5-4ce3-bfaa-a485fcb84ed7",
   "metadata": {},
   "outputs": [
    {
     "data": {
      "text/plain": [
       "'Hello Batman! So, nice to meet you!'"
      ]
     },
     "execution_count": 6,
     "metadata": {},
     "output_type": "execute_result"
    }
   ],
   "source": [
    "greeting('Batman')"
   ]
  },
  {
   "cell_type": "markdown",
   "id": "bae7b98d-b270-4c4d-9df9-3456cea4996d",
   "metadata": {},
   "source": [
    "# Exercise 1\n",
    "The code works as expected because it makes sense to Python. Under the If stastment, if it is True (name = Batman), then it returns to 'Hello Batman! So, nice to meet you!'. There is no else statement, therefore Python will read the next line. The indentation makes the second return f'Hello {name}!' not in the if statement anymore, so if the previous statement returns False, Python continues and 'Hello {name}' will be printed. "
   ]
  },
  {
   "cell_type": "code",
   "execution_count": 1,
   "id": "fdfa250a-90ff-452f-9eed-8928fd1c7f12",
   "metadata": {},
   "outputs": [],
   "source": [
    "def calculate_bmi(weight, height):\n",
    "    BMI = weight / (height ** 2)\n",
    "    if BMI < 18.5:\n",
    "        print ('underweight')\n",
    "    if 18.5 <= BMI < 25: \n",
    "        print ('normal weight')\n",
    "    if 25 <= BMI < 30:\n",
    "        print ('overweight')\n",
    "    if BMI >=30:\n",
    "        print ('OBESITY')"
   ]
  },
  {
   "cell_type": "code",
   "execution_count": 9,
   "id": "127de554-de20-47e4-8ab8-16cf0022f724",
   "metadata": {},
   "outputs": [
    {
     "name": "stdout",
     "output_type": "stream",
     "text": [
      "underweight\n"
     ]
    }
   ],
   "source": [
    "calculate_bmi(50,1.65)"
   ]
  },
  {
   "cell_type": "code",
   "execution_count": 12,
   "id": "bc86df8c-27fa-4541-8030-f74f754ecddc",
   "metadata": {},
   "outputs": [
    {
     "name": "stdout",
     "output_type": "stream",
     "text": [
      "overweight\n"
     ]
    }
   ],
   "source": [
    "calculate_bmi(50, 1.4)"
   ]
  },
  {
   "cell_type": "code",
   "execution_count": 2,
   "id": "ceae7588-24fe-4e19-9ec9-00233ab823ed",
   "metadata": {},
   "outputs": [
    {
     "name": "stdout",
     "output_type": "stream",
     "text": [
      "normal weight\n"
     ]
    }
   ],
   "source": [
    "calculate_bmi(50, 1.416) "
   ]
  }
 ],
 "metadata": {
  "kernelspec": {
   "display_name": "Python 3 (ipykernel)",
   "language": "python",
   "name": "python3"
  },
  "language_info": {
   "codemirror_mode": {
    "name": "ipython",
    "version": 3
   },
   "file_extension": ".py",
   "mimetype": "text/x-python",
   "name": "python",
   "nbconvert_exporter": "python",
   "pygments_lexer": "ipython3",
   "version": "3.11.5"
  },
  "toc": {
   "base_numbering": 1,
   "nav_menu": {},
   "number_sections": true,
   "sideBar": true,
   "skip_h1_title": false,
   "title_cell": "Table of Contents",
   "title_sidebar": "Contents",
   "toc_cell": false,
   "toc_position": {},
   "toc_section_display": true,
   "toc_window_display": false
  },
  "vscode": {
   "interpreter": {
    "hash": "31f2aee4e71d21fbe5cf8b01ff0e069b9275f58929596ceb00d14d90e3e16cd6"
   }
  }
 },
 "nbformat": 4,
 "nbformat_minor": 5
}
