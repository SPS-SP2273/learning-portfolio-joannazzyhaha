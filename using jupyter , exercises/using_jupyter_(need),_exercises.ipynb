{
 "cells": [
  {
   "attachments": {},
   "cell_type": "markdown",
   "id": "123456",
   "metadata": {},
   "source": [
    "<div style=\"text-align:left;font-size:2em\"><span style=\"font-weight:bolder;font-size:1.25em\">SP2273 | Learning Portfolio</span><br><br><span style=\"font-weight:bold;color:darkred\">Using Jupyter (Need), Exercises</span></div>"
   ]
  },
  {
   "attachments": {},
   "cell_type": "markdown",
   "id": "dc429e26",
   "metadata": {},
   "source": [
    "## Quadratic Equations"
   ]
  },
  {
   "attachments": {},
   "cell_type": "markdown",
   "id": "e180f4cd",
   "metadata": {},
   "source": [
    "### Introduction"
   ]
  },
  {
   "cell_type": "markdown",
   "id": "0f554163-f23e-49d3-9b9e-47e3530f7b07",
   "metadata": {},
   "source": [
    "![](https://upload.wikimedia.org/wikipedia/commons/thumb/f/f8/Polynomialdeg2.svg/450px-Polynomialdeg2.svg.png)"
   ]
  },
  {
   "cell_type": "markdown",
   "id": "9040cb22-8d4f-4f4f-9cfb-cced0827a7a1",
   "metadata": {},
   "source": [
    "*(Image from the [Wikipedia page on Quadratic equations)](https://en.wikipedia.org/wiki/Quadratic_equation)*"
   ]
  },
  {
   "cell_type": "markdown",
   "id": "7a17088a-edf4-4743-b009-ed918158d023",
   "metadata": {},
   "source": [
    "The general form of a quadratic equation is:"
   ]
  },
  {
   "cell_type": "markdown",
   "id": "e01226db-a8e6-4dd2-8a23-359e37fddf48",
   "metadata": {},
   "source": [
    "$$\n",
    "ax^{2}+bx+c=0\n",
    "$$"
   ]
  },
  {
   "attachments": {},
   "cell_type": "markdown",
   "id": "1b24e839",
   "metadata": {},
   "source": [
    "### Solutions"
   ]
  },
  {
   "cell_type": "markdown",
   "id": "93fd3496-c42a-4460-870a-39d220f957fc",
   "metadata": {},
   "source": [
    "Provided $a\\ne b$, we can use an elementary algebraic method called [completing the square](https://en.wikipedia.org/wiki/Completing_the_square) to show that a quadratic equation has the following solution:\n",
    "$$\n",
    "x=\\dfrac{-b±\\sqrt{b^{2}-4ac}}{2a}\n",
    "$$"
   ]
  },
  {
   "attachments": {},
   "cell_type": "markdown",
   "id": "6db8b219",
   "metadata": {},
   "source": [
    "### Discriminant"
   ]
  },
  {
   "cell_type": "markdown",
   "id": "ee8bcf32-b281-48a4-a84e-22eab568f14a",
   "metadata": {},
   "source": [
    "The quantity $Δ=b^{2}-4ac$ is called the **discriminant** of the equation and decides the nature of its solutions. The table below shows the various possibilities. \n"
   ]
  },
  {
   "cell_type": "markdown",
   "id": "e0e84d31-a5bd-4257-ac04-03474501d0c9",
   "metadata": {},
   "source": [
    "| Discriminant        | Roots                              |   |   |   |\n",
    "|---------------------|------------------------------------|---|---|---|\n",
    "| $Δ=b^{2}-4ac=0$     | A single solution of -b/(2a)       |   |   |   |\n",
    "| $Δ=b^{2}-4ac \\gt 0$ | Two distinct solutions             |   |   |   |\n",
    "| $Δ=b^{2}-4ac \\lt 0$ | No real solutions; both are comlex |   |   |   |"
   ]
  },
  {
   "cell_type": "markdown",
   "id": "09c430d5-32c0-4c41-8f35-4e785fa6c6cc",
   "metadata": {},
   "source": [
    "1. Something that tracks changes of the coding and can store it either locally or onto the cloud\n",
    "2. Git keeps tracks of **changes** in the files in our repository\n",
    "3. Committing is to tell Git which changes to be tracked and recorded down, after commiting the changes will be stored locally\n",
    "4. 'Push' is to upload something stored locally to the cloud\n",
    "5. 'Pull' is to store some changes in the cloud to the local space\n",
    "6. GitHub is something in the cloud where we can store our codes, while GitHub desktop allows us to track changes to our code on Jupyter locally"
   ]
  }
 ],
 "metadata": {
  "kernelspec": {
   "display_name": "Python 3 (ipykernel)",
   "language": "python",
   "name": "python3"
  },
  "language_info": {
   "codemirror_mode": {
    "name": "ipython",
    "version": 3
   },
   "file_extension": ".py",
   "mimetype": "text/x-python",
   "name": "python",
   "nbconvert_exporter": "python",
   "pygments_lexer": "ipython3",
   "version": "3.11.5"
  },
  "toc": {
   "base_numbering": 1,
   "nav_menu": {},
   "number_sections": true,
   "sideBar": true,
   "skip_h1_title": false,
   "title_cell": "Table of Contents",
   "title_sidebar": "Contents",
   "toc_cell": false,
   "toc_position": {},
   "toc_section_display": true,
   "toc_window_display": false
  },
  "vscode": {
   "interpreter": {
    "hash": "31f2aee4e71d21fbe5cf8b01ff0e069b9275f58929596ceb00d14d90e3e16cd6"
   }
  }
 },
 "nbformat": 4,
 "nbformat_minor": 5
}
