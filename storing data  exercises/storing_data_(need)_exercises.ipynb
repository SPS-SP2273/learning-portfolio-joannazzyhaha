{
 "cells": [
  {
   "attachments": {},
   "cell_type": "markdown",
   "id": "123456",
   "metadata": {},
   "source": [
    "<div style=\"text-align:left;font-size:2em\"><span style=\"font-weight:bolder;font-size:1.25em\">SP2273 | Learning Portfolio</span><br><br><span style=\"font-weight:bold;color:darkred\">Storing Data (Need) Exercises</span></div>"
   ]
  },
  {
   "cell_type": "markdown",
   "id": "3e3f5322-82a7-4166-a010-f320c0c77305",
   "metadata": {},
   "source": [
    "# Exercise 1\n",
    "## 1. Two similarities between lists and arrays\n",
    "1. Both uses an index starting from 0\n",
    "1. The sequencing matters if the elements in two lists or arrays correspond to each other\n",
    "## 2. Two differences between lists and arrays.\n",
    "1. When added to a list/multiplied by a number, lists multiply itself, i.e. it repeats itself by the number multiplied, while the elements inside the arrays get multiplied by the number\n",
    "2. Lists can contain elements of different types, eg. numbers and letters at the same time, while arrays only allow a single type\n",
    "## 3. What is a dictionary?\n",
    "A dictionary is where we can assign a value to a key to store the information"
   ]
  },
  {
   "cell_type": "code",
   "execution_count": 2,
   "id": "abc92e0a-dc27-4a15-b3d4-3e8c2a97d47a",
   "metadata": {},
   "outputs": [
    {
     "name": "stdout",
     "output_type": "stream",
     "text": [
      "a1\n",
      "c3\n",
      "e5\n",
      "g7\n",
      "i9\n"
     ]
    }
   ],
   "source": [
    "#Exercise 2\n",
    "py_list = [\"a1\", \"b2\", \"c3\", \"d4\", \"e5\", \"f6\", \"g7\", \"h8\", \"i9\", \"j10\"]\n",
    "print(py_list[0]) # Prints 'a1'\n",
    "print(py_list[2]) # Prints 'c3'\n",
    "print(py_list[4]) # Prints 'e5'\n",
    "print(py_list[-4]) # Prints 'g7'\n",
    "print(py_list[8])  # Prints 'i9'"
   ]
  },
  {
   "cell_type": "code",
   "execution_count": 4,
   "id": "4cad749b-668e-40a4-b47b-49507acaccde",
   "metadata": {},
   "outputs": [
    {
     "name": "stdout",
     "output_type": "stream",
     "text": [
      "Boron\n"
     ]
    }
   ],
   "source": [
    "#Exercise 3\n",
    "elements = ['Hydrogen',\n",
    "            'Helium', 'Lithium',\n",
    "            'Beryllium', 'Boron', 'Carbon',\n",
    "            'Nitrogen', 'Oxygen',\n",
    "            'Fluorine',\n",
    "            'Neon']\n",
    "print(elements[4])"
   ]
  },
  {
   "cell_type": "code",
   "execution_count": 5,
   "id": "85756c65-b7b6-4978-90b2-59a364750246",
   "metadata": {},
   "outputs": [
    {
     "name": "stdout",
     "output_type": "stream",
     "text": [
      "Boron\n"
     ]
    }
   ],
   "source": [
    "elements = ['Hydrogen',\n",
    "            'Helium', 'Lithium',\n",
    "            'Beryllium', 'Boron', 'Carbon',\n",
    "            'Nitrogen', 'Oxygen',\n",
    "            'Fluorine',\n",
    "            'Neon']\n",
    "print(elements[-6])"
   ]
  },
  {
   "cell_type": "code",
   "execution_count": 32,
   "id": "e39c59a4-6fe3-44be-899f-330d6e62ebb1",
   "metadata": {},
   "outputs": [
    {
     "data": {
      "text/plain": [
       "9"
      ]
     },
     "execution_count": 32,
     "metadata": {},
     "output_type": "execute_result"
    }
   ],
   "source": [
    "#Exercise 4\n",
    "import numpy as np\n",
    "numbers=[45, 60, 1, 30, 96, 1, 96, 57, 16, 1,\n",
    "        99, 62, 86, 43, 42, 60, 59, 1, 1, 35,\n",
    "        83, 47, 34, 28, 68, 23, 22, 92, 1, 79,\n",
    "        1, 29, 94, 72, 46, 47, 1, 74, 32, 20,\n",
    "        8, 37, 35, 1, 89, 29, 86, 19, 43, 61]                  \n",
    "np_array == 1\n",
    "\n",
    "np.sum(np_array == 1)\n",
    "\n"
   ]
  }
 ],
 "metadata": {
  "kernelspec": {
   "display_name": "Python 3 (ipykernel)",
   "language": "python",
   "name": "python3"
  },
  "language_info": {
   "codemirror_mode": {
    "name": "ipython",
    "version": 3
   },
   "file_extension": ".py",
   "mimetype": "text/x-python",
   "name": "python",
   "nbconvert_exporter": "python",
   "pygments_lexer": "ipython3",
   "version": "3.11.5"
  },
  "toc": {
   "base_numbering": 1,
   "nav_menu": {},
   "number_sections": true,
   "sideBar": true,
   "skip_h1_title": false,
   "title_cell": "Table of Contents",
   "title_sidebar": "Contents",
   "toc_cell": false,
   "toc_position": {},
   "toc_section_display": true,
   "toc_window_display": false
  },
  "vscode": {
   "interpreter": {
    "hash": "31f2aee4e71d21fbe5cf8b01ff0e069b9275f58929596ceb00d14d90e3e16cd6"
   }
  }
 },
 "nbformat": 4,
 "nbformat_minor": 5
}
