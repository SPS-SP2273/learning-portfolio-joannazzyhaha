{
 "cells": [
  {
   "attachments": {},
   "cell_type": "markdown",
   "id": "123456",
   "metadata": {},
   "source": [
    "<div style=\"text-align:left;font-size:2em\"><span style=\"font-weight:bolder;font-size:1.25em\">SP2273 | Learning Portfolio</span><br><br><span style=\"font-weight:bold;color:darkred\">Loops (Good) Exercises</span></div>"
   ]
  },
  {
   "cell_type": "code",
   "execution_count": 35,
   "id": "0ec2d46f-8a32-4eee-b918-59b26bdc6c57",
   "metadata": {},
   "outputs": [
    {
     "name": "stderr",
     "output_type": "stream",
     "text": [
      "UsageError: Line magic function `%%timeit` not found.\n"
     ]
    }
   ],
   "source": [
    "#Exercise 1\n",
    "\n",
    "%%timeit \n",
    "for x in range (0, 10):\n",
    "    if x % 2 == 0:\n",
    "        continue\n",
    "        print(x**2)"
   ]
  },
  {
   "cell_type": "code",
   "execution_count": 19,
   "id": "c6966cc7-7694-43c6-b40b-53a9132172b2",
   "metadata": {},
   "outputs": [
    {
     "name": "stdout",
     "output_type": "stream",
     "text": [
      "1.05 µs ± 35.9 ns per loop (mean ± std. dev. of 7 runs, 1,000,000 loops each)\n"
     ]
    }
   ],
   "source": [
    "#Exercise 2\n",
    "%timeit [x**2 for x in range (10) if x % 2 == 1]"
   ]
  },
  {
   "cell_type": "code",
   "execution_count": 47,
   "id": "b517eac3-5f97-4e7e-b2cf-96d8b5c3bc93",
   "metadata": {},
   "outputs": [
    {
     "name": "stdout",
     "output_type": "stream",
     "text": [
      "0 100\n",
      "1 95.0\n",
      "2 90.25\n",
      "3 85.7375\n",
      "4 81.45062499999999\n",
      "5 77.37809374999999\n",
      "6 73.50918906249998\n",
      "7 69.83372960937498\n",
      "8 66.34204312890623\n",
      "9 63.02494097246091\n",
      "10 59.87369392383786\n",
      "11 56.880009227645964\n",
      "12 54.03600876626366\n",
      "13 51.33420832795048\n"
     ]
    }
   ],
   "source": [
    "#Exercise 4\n",
    "x=100\n",
    "y=0\n",
    "while True:\n",
    "    print(y, x)\n",
    "    x *= 0.95\n",
    "    y += 1\n",
    "    if x <= 50:break\n",
    "\n",
    "# it will take 13+1=14 years"
   ]
  },
  {
   "cell_type": "code",
   "execution_count": 49,
   "id": "63d55391-1a02-41ba-9c4d-8b659836f03a",
   "metadata": {},
   "outputs": [
    {
     "name": "stdout",
     "output_type": "stream",
     "text": [
      "2016 3.410000000000025\n"
     ]
    }
   ],
   "source": [
    "#Exercise 5\n",
    "co2_data = [\n",
    "    (2000, 369.55), (2001, 371.14), (2002, 373.28), \n",
    "    (2003, 375.80), (2004, 377.52), (2005, 379.80), \n",
    "    (2006, 381.90), (2007, 383.79), (2008, 385.60), \n",
    "    (2009, 387.43), (2010, 389.90), (2011, 391.65), \n",
    "    (2012, 393.85), (2013, 396.52), (2014, 398.65),\n",
    "    (2015, 400.83), (2016, 404.24), (2017, 406.55), \n",
    "    (2018, 408.52), (2019, 411.44), (2020, 414.24)\n",
    "]\n",
    "\n",
    "for i in range(len(co2_data)):\n",
    "    year, co2 = co2_data[i]\n",
    "    last_year, last_co2 = co2_data[i-1]\n",
    "    increase_co2 = co2 - last_co2\n",
    "    if increase_co2 >= 3:\n",
    "        print(year, increase_co2)"
   ]
  }
 ],
 "metadata": {
  "kernelspec": {
   "display_name": "Python 3 (ipykernel)",
   "language": "python",
   "name": "python3"
  },
  "language_info": {
   "codemirror_mode": {
    "name": "ipython",
    "version": 3
   },
   "file_extension": ".py",
   "mimetype": "text/x-python",
   "name": "python",
   "nbconvert_exporter": "python",
   "pygments_lexer": "ipython3",
   "version": "3.11.5"
  },
  "toc": {
   "base_numbering": 1,
   "nav_menu": {},
   "number_sections": true,
   "sideBar": true,
   "skip_h1_title": false,
   "title_cell": "Table of Contents",
   "title_sidebar": "Contents",
   "toc_cell": false,
   "toc_position": {},
   "toc_section_display": true,
   "toc_window_display": false
  },
  "vscode": {
   "interpreter": {
    "hash": "31f2aee4e71d21fbe5cf8b01ff0e069b9275f58929596ceb00d14d90e3e16cd6"
   }
  }
 },
 "nbformat": 4,
 "nbformat_minor": 5
}
