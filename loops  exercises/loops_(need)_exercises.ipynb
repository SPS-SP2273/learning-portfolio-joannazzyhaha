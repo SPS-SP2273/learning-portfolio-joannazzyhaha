{
 "cells": [
  {
   "attachments": {},
   "cell_type": "markdown",
   "id": "123456",
   "metadata": {},
   "source": [
    "<div style=\"text-align:left;font-size:2em\"><span style=\"font-weight:bolder;font-size:1.25em\">SP2273 | Learning Portfolio</span><br><br><span style=\"font-weight:bold;color:darkred\">Loops (Need) Exercises</span></div>"
   ]
  },
  {
   "cell_type": "code",
   "execution_count": 2,
   "id": "d8df6d66-c811-4241-a09b-bdeaf7749a78",
   "metadata": {},
   "outputs": [],
   "source": [
    "#Exercise 1\n",
    "temperatures_celsius = [\n",
    "    0, 5, 10, 15, 20, 25,\n",
    "    30, 35, 40, 45, 50\n",
    "]\n"
   ]
  },
  {
   "cell_type": "code",
   "execution_count": 6,
   "id": "d16c95b4-99ce-4c66-8d10-45eb355070a5",
   "metadata": {},
   "outputs": [
    {
     "name": "stdout",
     "output_type": "stream",
     "text": [
      "32.0 Fahrenheit is equal to 0 Degree Celcius\n",
      "41.0 Fahrenheit is equal to 5 Degree Celcius\n",
      "50.0 Fahrenheit is equal to 10 Degree Celcius\n",
      "59.0 Fahrenheit is equal to 15 Degree Celcius\n",
      "68.0 Fahrenheit is equal to 20 Degree Celcius\n",
      "77.0 Fahrenheit is equal to 25 Degree Celcius\n",
      "86.0 Fahrenheit is equal to 30 Degree Celcius\n",
      "95.0 Fahrenheit is equal to 35 Degree Celcius\n",
      "104.0 Fahrenheit is equal to 40 Degree Celcius\n",
      "113.0 Fahrenheit is equal to 45 Degree Celcius\n",
      "122.0 Fahrenheit is equal to 50 Degree Celcius\n"
     ]
    }
   ],
   "source": [
    "for x in temperatures_celsius:\n",
    "    print (f'{x * 1.8 + 32} Fahrenheit is equal to {x} Degree Celcius')"
   ]
  },
  {
   "cell_type": "code",
   "execution_count": 7,
   "id": "5a483c4a-5fda-48ad-b563-d9b0532490b3",
   "metadata": {},
   "outputs": [
    {
     "name": "stdout",
     "output_type": "stream",
     "text": [
      "A1\tA2\tA3\t\n",
      "\n",
      "B1\tB2\tB3\t\n",
      "\n",
      "C1\tC2\tC3\t\n",
      "\n"
     ]
    }
   ],
   "source": [
    "#Exercise 2\n",
    "for letter in ['A', 'B', 'C']:\n",
    "    for number in [1, 2, 3]:\n",
    "        print(f'{letter}{number}', end='\\t')\n",
    "    print('\\n')"
   ]
  },
  {
   "cell_type": "code",
   "execution_count": 46,
   "id": "cb04d1cb-66bd-4218-8c8a-30adb624f447",
   "metadata": {},
   "outputs": [
    {
     "name": "stdout",
     "output_type": "stream",
     "text": [
      "1 : 1  2  3  4  5  \n",
      "2 : 2  4  6  8  10  \n",
      "3 : 3  6  9  12  15  \n",
      "4 : 4  8  12  16  20  \n",
      "5 : 5  10  15  20  25  \n"
     ]
    }
   ],
   "source": [
    "for i in range (1, 6):\n",
    "    print(f'{i} :', end=' ')\n",
    "    for x in range (1,6):\n",
    "        print(f'{i * x:<0} ', end=' ')\n",
    "    print('')    "
   ]
  }
 ],
 "metadata": {
  "kernelspec": {
   "display_name": "Python 3 (ipykernel)",
   "language": "python",
   "name": "python3"
  },
  "language_info": {
   "codemirror_mode": {
    "name": "ipython",
    "version": 3
   },
   "file_extension": ".py",
   "mimetype": "text/x-python",
   "name": "python",
   "nbconvert_exporter": "python",
   "pygments_lexer": "ipython3",
   "version": "3.11.5"
  },
  "toc": {
   "base_numbering": 1,
   "nav_menu": {},
   "number_sections": true,
   "sideBar": true,
   "skip_h1_title": false,
   "title_cell": "Table of Contents",
   "title_sidebar": "Contents",
   "toc_cell": false,
   "toc_position": {},
   "toc_section_display": true,
   "toc_window_display": false
  },
  "vscode": {
   "interpreter": {
    "hash": "31f2aee4e71d21fbe5cf8b01ff0e069b9275f58929596ceb00d14d90e3e16cd6"
   }
  }
 },
 "nbformat": 4,
 "nbformat_minor": 5
}
