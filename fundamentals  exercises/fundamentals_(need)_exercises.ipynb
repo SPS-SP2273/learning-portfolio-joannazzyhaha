{
 "cells": [
  {
   "attachments": {},
   "cell_type": "markdown",
   "id": "123456",
   "metadata": {},
   "source": [
    "<div style=\"text-align:left;font-size:2em\"><span style=\"font-weight:bolder;font-size:1.25em\">SP2273 | Learning Portfolio</span><br><br><span style=\"font-weight:bold;color:darkred\">Fundamentals (Need) Exercises</span></div>"
   ]
  },
  {
   "cell_type": "code",
   "execution_count": null,
   "id": "17722b92-13a8-4b98-9a00-b1a0e21473fa",
   "metadata": {},
   "outputs": [],
   "source": []
  },
  {
   "cell_type": "markdown",
   "id": "5fc64be8-f89f-473c-b930-a4d453b50b3e",
   "metadata": {},
   "source": [
    "# Exercise 1\n",
    "# 1. Markdown cells\n",
    "## 1. syntaxes: \n",
    "1. **bold**\n",
    "1. *Italic*\n",
    "1. ***bold and Italic***\n",
    "1. <sup>superscript</sup>\n",
    "1. <sub>subscript</sub>\n",
    "## 1. displying code: \n",
    "`print('Hello World')`\n",
    "OR for blocks of code\n",
    "```python\n",
    "print('Hello World')\n",
    "```\n",
    "## 1. Links\n",
    "[Displayed name](link)\n",
    "## 1. Image\n",
    "![](link)\n",
    "\n",
    "## 1. Using table generator to create tables\n",
    "## 1. Equations:\n",
    "1. $\\dfrac{3}{4}$\n",
    "2. $x^{(a+b)}$\n",
    "*3. $x_{a}$*\n",
    "*4. $\\sqrt{a+b}$*\n",
    "*5. $\\sum_{n=1}^{n=\\infty}x_n$*\n",
    "*6. $\\int_{x=1}^{x=\\infty} f(x)dx$*\n",
    "*7. $a \\ne b$*\n",
    "*8. $a \\lt b$*\n",
    "*9. $a \\leq b$*\n",
    "*10. $a \\gt b$*\n",
    "*11. $a \\geq b$*\n",
    "*12. $\\alpha, \\beta, \\gamma, \\pi, \\lambda$*\n",
    "\n",
    "## 1. shell magic\n",
    "*`print(%timeit x=2)`* for single line\n",
    "\n",
    "*`print(%%timeit x=2 y=2 z=2)`* for single cell\n",
    "\n",
    "## 1. Kernel\n",
    "interrupt Python by pressing the kernel button\n",
    "\n",
    "# Functions\n",
    "**one command at a time**\n",
    "**case sensitive**\n",
    "## 1. Comments\n",
    "print('Hi') # writing a comment\n",
    "\n",
    "\n",
    "## 1. = vs. ==\n",
    "= define something as equal\n",
    "== check if something is equal (question)\n",
    "\n",
    "## 1. If (true of false)\n",
    "name = 'Donal Duck' #defining name as 'Donald Duck'\n",
    "if name == 'Donald Duck':\n",
    "    print('Hello Donald Duck')\n",
    "else:\n",
    "    print('Hello World')\n",
    "\n",
    "## 1. variables\n",
    "age = 6 # assign a value to a variable\n",
    "print(age) # printing the value of the variable\n",
    "\n",
    "() for function and math\n",
    "*[] for lists of data*\n",
    "{} for a dictionary to definining values to variables\n",
    "\n",
    "# Packages\n",
    "import \n",
    "\n",
    "'.' is to show ownership of a particular function"
   ]
  },
  {
   "cell_type": "code",
   "execution_count": 4,
   "id": "706c1ca5-c0c5-4933-8f10-5781d66f3e6d",
   "metadata": {},
   "outputs": [],
   "source": [
    "import math"
   ]
  },
  {
   "cell_type": "code",
   "execution_count": 5,
   "id": "15b7ba8d-b296-4cb6-9d9e-ef9e7abe32ab",
   "metadata": {},
   "outputs": [],
   "source": [
    "import numpy as np"
   ]
  },
  {
   "cell_type": "code",
   "execution_count": 20,
   "id": "e10ce93c-3823-4189-bddf-f57057114125",
   "metadata": {},
   "outputs": [
    {
     "name": "stdout",
     "output_type": "stream",
     "text": [
      "3 4 5\n"
     ]
    }
   ],
   "source": [
    "# Exercise 2\n",
    "x, y = 3, 4\n",
    "z = math.sqrt(x**2 + y**2)\n",
    "z_rounded = round(z)\n",
    "print(x, y, z_rounded)"
   ]
  },
  {
   "cell_type": "markdown",
   "id": "71599bae-ca2b-4851-84cf-d3e7b3aa0592",
   "metadata": {},
   "source": [
    "# Exercise 3\n",
    "1. Function: a defined task that performs when a cell is ran\n",
    "2. Argument: content that a function works on\n",
    "3. Commnets: extra information, eg. explaining what the function is for, that will be ignored by python\n",
    "4. Indentations: seperation between the 'true' and 'false' code blocks\n",
    "5. Packages: a collection of defined functions, often of a specific kind\n",
    "6. '.' :indication of ownership of a function\n",
    "7. ':' :assign values in a dictionary?\n",
    "8. [] :used to contain a list of data\n",
    "9. [[[]]]: a 3D array?\n",
    "10. {} : dictionary where values are assigned and stored"
   ]
  },
  {
   "cell_type": "code",
   "execution_count": 40,
   "id": "15373b39-1597-469a-911f-ead65c2c125a",
   "metadata": {},
   "outputs": [
    {
     "data": {
      "text/plain": [
       "2.5"
      ]
     },
     "execution_count": 40,
     "metadata": {},
     "output_type": "execute_result"
    }
   ],
   "source": [
    "# Exercise 4\n",
    "5/2 #gives the exact result of the division"
   ]
  },
  {
   "cell_type": "code",
   "execution_count": 37,
   "id": "6a9a3fcd-aa69-4e19-9cb8-913bae8a0175",
   "metadata": {},
   "outputs": [
    {
     "data": {
      "text/plain": [
       "2"
      ]
     },
     "execution_count": 37,
     "metadata": {},
     "output_type": "execute_result"
    }
   ],
   "source": [
    "5//2 # 5 divided by 2, the result is the quotient without remainder"
   ]
  },
  {
   "cell_type": "code",
   "execution_count": 64,
   "id": "219d7b6b-251d-4a68-9c00-63005394cf59",
   "metadata": {},
   "outputs": [
    {
     "data": {
      "text/plain": [
       "2"
      ]
     },
     "execution_count": 64,
     "metadata": {},
     "output_type": "execute_result"
    }
   ],
   "source": [
    "7%5 #gives the remainder"
   ]
  }
 ],
 "metadata": {
  "kernelspec": {
   "display_name": "Python 3 (ipykernel)",
   "language": "python",
   "name": "python3"
  },
  "language_info": {
   "codemirror_mode": {
    "name": "ipython",
    "version": 3
   },
   "file_extension": ".py",
   "mimetype": "text/x-python",
   "name": "python",
   "nbconvert_exporter": "python",
   "pygments_lexer": "ipython3",
   "version": "3.11.5"
  },
  "toc": {
   "base_numbering": 1,
   "nav_menu": {},
   "number_sections": true,
   "sideBar": true,
   "skip_h1_title": false,
   "title_cell": "Table of Contents",
   "title_sidebar": "Contents",
   "toc_cell": false,
   "toc_position": {},
   "toc_section_display": true,
   "toc_window_display": false
  },
  "vscode": {
   "interpreter": {
    "hash": "31f2aee4e71d21fbe5cf8b01ff0e069b9275f58929596ceb00d14d90e3e16cd6"
   }
  }
 },
 "nbformat": 4,
 "nbformat_minor": 5
}
